{
 "cells": [
  {
   "cell_type": "markdown",
   "id": "bf3628ce",
   "metadata": {},
   "source": [
    "<img style=\"float: left; margin: 30px 15px 15px 15px;\" src=\"https://pngimage.net/wp-content/uploads/2018/06/logo-iteso-png-5.png\" width=\"300\" height=\"500\" /> \n",
    "\n",
    "\n",
    "# Proyecto Final\n",
    "\n",
    "**Nombres:**  Andres Rubio Villaseñor  y Cristina Lobera De la Mora\n",
    "\n",
    "**Expediente:** if720562, if714997\n",
    "\n",
    "**Profesor:** Esteban Jiménez\n"
   ]
  },
  {
   "cell_type": "code",
   "execution_count": null,
   "id": "1af7a829",
   "metadata": {},
   "outputs": [],
   "source": []
  }
 ],
 "metadata": {
  "kernelspec": {
   "display_name": "Python 3",
   "language": "python",
   "name": "python3"
  },
  "language_info": {
   "codemirror_mode": {
    "name": "ipython",
    "version": 3
   },
   "file_extension": ".py",
   "mimetype": "text/x-python",
   "name": "python",
   "nbconvert_exporter": "python",
   "pygments_lexer": "ipython3",
   "version": "3.8.8"
  }
 },
 "nbformat": 4,
 "nbformat_minor": 5
}
